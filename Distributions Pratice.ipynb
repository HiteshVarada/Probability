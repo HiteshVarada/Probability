{
 "cells": [
  {
   "cell_type": "code",
   "execution_count": 5,
   "id": "8a5fe48f",
   "metadata": {},
   "outputs": [
    {
     "data": {
      "text/plain": [
       "0.4"
      ]
     },
     "execution_count": 5,
     "metadata": {},
     "output_type": "execute_result"
    }
   ],
   "source": [
    "#Uniform Distribution\n",
    "#Suppose a bus shows up at a bus stop every 20 minutes. If you arrive at the bus stop, what is the probability that the bus will show up in 8 minutes or less?\n",
    "from scipy.stats import uniform\n",
    "uniform.cdf(x=8, loc=0, scale=20)"
   ]
  },
  {
   "cell_type": "code",
   "execution_count": 6,
   "id": "54efe4a1",
   "metadata": {},
   "outputs": [
    {
     "data": {
      "text/plain": [
       "0.2"
      ]
     },
     "execution_count": 6,
     "metadata": {},
     "output_type": "execute_result"
    }
   ],
   "source": [
    "#The weight of a certain species of frog is uniformly distributed between 15 and 25 grams. If you randomly select a frog, what is the probability that the frog weighs between 17 and 19 grams?\n",
    "from scipy.stats import uniform\n",
    "uniform.cdf(x=19, loc=15, scale=10) - uniform.cdf(x=17, loc=15, scale=10)"
   ]
  },
  {
   "cell_type": "code",
   "execution_count": 7,
   "id": "ba804060",
   "metadata": {},
   "outputs": [
    {
     "data": {
      "text/plain": [
       "0.4"
      ]
     },
     "execution_count": 7,
     "metadata": {},
     "output_type": "execute_result"
    }
   ],
   "source": [
    "#The length of an NBA game is uniformly distributed between 120 and 170 minutes. What is the probability that a randomly selected NBA game lasts more than 150 minutes?\n",
    "from scipy.stats import uniform\n",
    "uniform.cdf(x=170,loc=120,scale=50)-uniform.cdf(x=150,loc=120,scale=50)"
   ]
  },
  {
   "cell_type": "code",
   "execution_count": 8,
   "id": "1f5cc04c",
   "metadata": {},
   "outputs": [
    {
     "data": {
      "text/plain": [
       "0.063852281856"
      ]
     },
     "execution_count": 8,
     "metadata": {},
     "output_type": "execute_result"
    }
   ],
   "source": [
    "#Binomial Distribution\n",
    "#Question 1: Nathan makes 60% of his free-throw attempts. If he shoots 12 free throws, what is the probability that he makes exactly 10?\n",
    "n=12\n",
    "k=10\n",
    "p=0.6\n",
    "from scipy.stats import binom\n",
    "binom.pmf(k,n,p)"
   ]
  },
  {
   "cell_type": "code",
   "execution_count": 9,
   "id": "dacd2687",
   "metadata": {},
   "outputs": [
    {
     "data": {
      "text/plain": [
       "0.5"
      ]
     },
     "execution_count": 9,
     "metadata": {},
     "output_type": "execute_result"
    }
   ],
   "source": [
    "#Marty flips a fair coin 5 times. What is the probability that the coin lands on heads 2 times or fewer?\n",
    "n=5\n",
    "k=2\n",
    "p=0.5\n",
    "binom.cdf(k,n,p)"
   ]
  },
  {
   "cell_type": "code",
   "execution_count": 10,
   "id": "3a4f99d6",
   "metadata": {},
   "outputs": [
    {
     "data": {
      "text/plain": [
       "0.3030402942"
      ]
     },
     "execution_count": 10,
     "metadata": {},
     "output_type": "execute_result"
    }
   ],
   "source": [
    "# It is known that 70% of individuals support a certain law. If 10 individuals are randomly selected, what is the probability that between 4 and 6 of them support the law?\n",
    "binom.cdf(k=6,n=10,p=0.7)-binom.cdf(k=4,n=10,p=0.7)"
   ]
  },
  {
   "cell_type": "code",
   "execution_count": 12,
   "id": "b7573d4c",
   "metadata": {},
   "outputs": [
    {
     "data": {
      "text/plain": [
       "0.10081881344492458"
      ]
     },
     "execution_count": 12,
     "metadata": {},
     "output_type": "execute_result"
    }
   ],
   "source": [
    "#Poisson Distribution\n",
    "#A store sells 3 apples per day on average. What is the probability that they will sell 5 apples on a given day?\n",
    "from scipy.stats import poisson\n",
    "poisson.pmf(mu=3,k=5)"
   ]
  },
  {
   "cell_type": "code",
   "execution_count": 13,
   "id": "74e3664b",
   "metadata": {},
   "outputs": [
    {
     "data": {
      "text/plain": [
       "0.17299160788207146"
      ]
     },
     "execution_count": 13,
     "metadata": {},
     "output_type": "execute_result"
    }
   ],
   "source": [
    "#A certain store sells seven footballs per day on average. What is the probability that this store sells four or less footballs in a given day?\n",
    "poisson.cdf(mu=7,k=4)"
   ]
  },
  {
   "cell_type": "code",
   "execution_count": 14,
   "id": "fc5bb363",
   "metadata": {},
   "outputs": [
    {
     "data": {
      "text/plain": [
       "0.08297091003146029"
      ]
     },
     "execution_count": 14,
     "metadata": {},
     "output_type": "execute_result"
    }
   ],
   "source": [
    "#A certain store sells 15 cans of tuna per day on average. What is the probability that this store sells more than 20 cans of tuna in a given day?\n",
    "\n",
    "1-poisson.cdf(mu=15,k=20)"
   ]
  },
  {
   "cell_type": "code",
   "execution_count": 3,
   "id": "b3f3826e",
   "metadata": {},
   "outputs": [
    {
     "data": {
      "text/plain": [
       "0.04654006404645388"
      ]
     },
     "execution_count": 3,
     "metadata": {},
     "output_type": "execute_result"
    }
   ],
   "source": [
    "#In a deck of cards, what is the probability of drawing exactly 2 aces in 5 draws? Is this binomial distribution\n",
    "#This a Binomial Distribution\n",
    "n=5\n",
    "k=2\n",
    "p=4/52\n",
    "\n",
    "from scipy.stats import binom \n",
    "binom.pmf(k,n,p)"
   ]
  },
  {
   "cell_type": "code",
   "execution_count": 4,
   "id": "8cdbbc3b",
   "metadata": {},
   "outputs": [
    {
     "data": {
      "text/plain": [
       "0.8145062499999999"
      ]
     },
     "execution_count": 4,
     "metadata": {},
     "output_type": "execute_result"
    }
   ],
   "source": [
    "#A light bulb has a 0.95 probability of working.\n",
    "#What is the probability that it will fail on the 4th trial? is this binomial distribution\n",
    "#Binomial Distribution\n",
    "p=1-0.95\n",
    "n=4\n",
    "k=0\n",
    "\n",
    "binom.pmf(k,n,p)"
   ]
  },
  {
   "cell_type": "code",
   "execution_count": 7,
   "id": "5bdd76b5",
   "metadata": {},
   "outputs": [
    {
     "data": {
      "text/plain": [
       "0.4985649644473169"
      ]
     },
     "execution_count": 7,
     "metadata": {},
     "output_type": "execute_result"
    }
   ],
   "source": [
    "#You are drawing 8 cards from a deck of 52. What is the probability of getting at least one ace?\n",
    "#hypergeometric Dsitribution\n",
    "N=52\n",
    "K=4\n",
    "n=8\n",
    "\n",
    "from scipy.stats import hypergeom\n",
    "zero=hypergeom.pmf(0,N,K,n)\n",
    "atleast_1=1-zero\n",
    "atleast_1"
   ]
  },
  {
   "cell_type": "code",
   "execution_count": 9,
   "id": "b48e3fbe",
   "metadata": {},
   "outputs": [
    {
     "data": {
      "text/plain": [
       "0.3750000000000001"
      ]
     },
     "execution_count": 9,
     "metadata": {},
     "output_type": "execute_result"
    }
   ],
   "source": [
    "#In a series of coin tosses, what is the probability of getting tails on the third toss\n",
    "n=3\n",
    "k=1\n",
    "p=0.5\n",
    "binom.pmf(k,n,p)"
   ]
  },
  {
   "cell_type": "code",
   "execution_count": 10,
   "id": "47b4ed73",
   "metadata": {},
   "outputs": [
    {
     "data": {
      "text/plain": [
       "0.5119999999999999"
      ]
     },
     "execution_count": 10,
     "metadata": {},
     "output_type": "execute_result"
    }
   ],
   "source": [
    "# basketball player makes free throws with a probability of 0.8. What is the probability of the player making the\n",
    "#first basket on the 3rd attempt?\n",
    "p=0.8\n",
    "n=3\n",
    "r=1\n",
    "from scipy.stats import nbinom\n",
    "\n",
    "nbinom.pmf(r-1,n,p)"
   ]
  },
  {
   "cell_type": "code",
   "execution_count": 11,
   "id": "9ad664ef",
   "metadata": {},
   "outputs": [
    {
     "data": {
      "text/plain": [
       "0.12754831375521025"
      ]
     },
     "execution_count": 11,
     "metadata": {},
     "output_type": "execute_result"
    }
   ],
   "source": [
    "#u are drawing 6 balls from a bag containing 12 red and 18 blue balls. What is the probability of getting exactly 4 \n",
    "#red balls?\n",
    "#HyperGeometric\n",
    "N=30\n",
    "K=12\n",
    "n=6\n",
    "k=4\n",
    "\n",
    "hypergeom.pmf(k,N,K,n)"
   ]
  },
  {
   "cell_type": "code",
   "execution_count": 12,
   "id": "2071dec2",
   "metadata": {},
   "outputs": [
    {
     "data": {
      "text/plain": [
       "0.2580260526180827"
      ]
     },
     "execution_count": 12,
     "metadata": {},
     "output_type": "execute_result"
    }
   ],
   "source": [
    "#n a box, there are 15 defective items and 25 non-defective items. \n",
    "#If you draw 10 items, what is the probability of getting 3 defective items?\n",
    "#Hypergeomtric\n",
    "N=40\n",
    "K=15\n",
    "n=10\n",
    "k=3\n",
    "\n",
    "hypergeom.pmf(k,N,K,n)"
   ]
  },
  {
   "cell_type": "code",
   "execution_count": 14,
   "id": "735a8cd2",
   "metadata": {},
   "outputs": [
    {
     "data": {
      "text/plain": [
       "0.015625"
      ]
     },
     "execution_count": 14,
     "metadata": {},
     "output_type": "execute_result"
    }
   ],
   "source": [
    "#What is the probability that a computer server crashes for the first time after 6 hours, given that the \n",
    "#average time between crashes is 2 hours?\n",
    "from scipy.stats import geom\n",
    "\n",
    "p=0.5\n",
    "x=6\n",
    "geom.pmf(x,p)"
   ]
  },
  {
   "cell_type": "code",
   "execution_count": 15,
   "id": "4d0ea1ee",
   "metadata": {},
   "outputs": [
    {
     "data": {
      "text/plain": [
       "0.015625"
      ]
     },
     "execution_count": 15,
     "metadata": {},
     "output_type": "execute_result"
    }
   ],
   "source": [
    "#In a sequence of Bernoulli trials, what is the probability of getting the first success on the 4th trial?\n",
    "#Geometric\n",
    "p=0.5\n",
    "x=6\n",
    "geom.pmf(x,p)"
   ]
  },
  {
   "cell_type": "code",
   "execution_count": 17,
   "id": "2020e398",
   "metadata": {},
   "outputs": [
    {
     "data": {
      "text/plain": [
       "0.045125"
      ]
     },
     "execution_count": 17,
     "metadata": {},
     "output_type": "execute_result"
    }
   ],
   "source": [
    "#A factory produces light bulbs, and 5% of them are defective. What is the probability of \n",
    "#finding the first defective bulb on the 3rd inspection? \"Is this a geometric distribution\"\n",
    "p=0.05\n",
    "x=3\n",
    "geom.pmf(x,p)"
   ]
  },
  {
   "cell_type": "code",
   "execution_count": null,
   "id": "da81e08d",
   "metadata": {},
   "outputs": [],
   "source": []
  }
 ],
 "metadata": {
  "kernelspec": {
   "display_name": "Python 3 (ipykernel)",
   "language": "python",
   "name": "python3"
  },
  "language_info": {
   "codemirror_mode": {
    "name": "ipython",
    "version": 3
   },
   "file_extension": ".py",
   "mimetype": "text/x-python",
   "name": "python",
   "nbconvert_exporter": "python",
   "pygments_lexer": "ipython3",
   "version": "3.9.7"
  }
 },
 "nbformat": 4,
 "nbformat_minor": 5
}
